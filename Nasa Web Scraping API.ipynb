{
 "cells": [
  {
   "cell_type": "code",
   "execution_count": 3,
   "metadata": {
    "scrolled": true
   },
   "outputs": [],
   "source": [
    "# The below imports the necessary packages from Python\n",
    "# The request package will pull the json from the api\n",
    "# The Mongo db database is setup to give a new database events\n",
    "\n",
    "\n",
    "import numpy as np\n",
    "import pandas as pd\n",
    "import requests\n",
    "import smtplib\n",
    "\n",
    "from pymongo import MongoClient\n",
    "client = MongoClient('mongodb://127.0.0.1:27017/')\n",
    "db = client.events\n",
    "\n",
    "#Specify the ids that correspond to Landslides, Wildfire and \n",
    "id=['8','10','14']\n",
    "\n",
    "def get_events():\n",
    "    for i in id:\n",
    "        url=\"https://eonet.sci.gsfc.nasa.gov/api/v2.1/categories/\"+i\n",
    "        payload={'days':'31'}\n",
    "        r=requests.get(url,params=payload)\n",
    "        results = db.event.insert_one(r.json())\n",
    "        curs = db.event.find({},{'events':1, 'events.id':1, 'events.title':1, 'events.geometries.date':1, 'events.geometries.coordinates':1})\n",
    "        \n",
    "        with open('events.csv', 'w') as outfile:\n",
    "            fields = ['_id', 'events.EONETid', 'events.title', 'events.date', 'events.coordinates']\n",
    "            write = csv.DictWriter(outfile, fieldnames=fields)\n",
    "            write.writeheader()\n",
    "            for events_field in curs:\n",
    "                events_id=events_field['_id']\n",
    "                for events_field in events_field['events']:\n",
    "                    events_geometries =events_field['geometries']\n",
    "                    for event in events_geometries:\n",
    "                        events ={\n",
    "                                '_id':events_id,\n",
    "                                'events.EONETid': events_field['id'],\n",
    "                                'events.title': events_field['title'],\n",
    "                                'events.date':event['date'],\n",
    "                                'events.coordinates':event['coordinates']\n",
    "                        }\n",
    "                        write.writerow(events)\n",
    "        \n",
    "    \n",
    "\n",
    "        \n",
    "get_events()\n",
    "\n",
    "\n",
    "\n"
   ]
  }
 ],
 "metadata": {
  "kernelspec": {
   "display_name": "Python 3",
   "language": "python",
   "name": "python3"
  },
  "language_info": {
   "codemirror_mode": {
    "name": "ipython",
    "version": 3
   },
   "file_extension": ".py",
   "mimetype": "text/x-python",
   "name": "python",
   "nbconvert_exporter": "python",
   "pygments_lexer": "ipython3",
   "version": "3.6.1"
  }
 },
 "nbformat": 4,
 "nbformat_minor": 2
}
