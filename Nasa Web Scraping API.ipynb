{
 
   "source": [
    "#The below imports the necessary packages from Python\n",
    "# The Beautiful Soup package will parse the results from requests\n",
    "# The Mongo db database is setup to give a new database events\n",
    "#\n",
    "\n",
    "import numpy as np\n",
    "import pandas as pd\n",
    "from bs4 import BeautifulSoup\n",
    "import requests\n",
    "#import smtplib\n",
    "\n",
    "from pymongo import MongoClient\n",
    "#client = MongoClient('mongodb://', 27017)\n",
    "#db = client.events\n",
    "\n",
    "#Specify the ids that correspond to Landslides, Wildfire and \n",
    "id=['8','10','14']\n",
    "\n",
    "\n",
    "for i in id:\n",
    "    url=\"https://eonet.sci.gsfc.nasa.gov/api/v2.1/categories/\"+i\n",
    "    payload={'days':'31'}\n",
    "    r=requests.get(url,params=payload)\n",
    "    print(r.text)\n",
    "\n",
    "\n",
    "\n"
   ]
  }
 ],
 "metadata": {
  "kernelspec": {
   "display_name": "Python 3",
   "language": "python",
   "name": "python3"
  },
  "language_info": {
   "codemirror_mode": {
    "name": "ipython",
    "version": 3
   },
   "file_extension": ".py",
   "mimetype": "text/x-python",
   "name": "python",
   "nbconvert_exporter": "python",
   "pygments_lexer": "ipython3",
   "version": "3.6.1"
  }
 },
 "nbformat": 4,
 "nbformat_minor": 2
}
